{
 "cells": [
  {
   "cell_type": "code",
   "execution_count": 19,
   "metadata": {},
   "outputs": [],
   "source": [
    "from sklearn.linear_model import LinearRegression\n",
    "from sklearn.ensemble import RandomForestRegressor\n",
    "from sklearn.pipeline import Pipeline\n",
    "from sklearn.preprocessing import StandardScaler\n",
    "from sklearn.preprocessing import MinMaxScaler\n",
    "from sklearn.preprocessing import RobustScaler\n",
    "from sklearn.model_selection import train_test_split\n",
    "from sklearn.metrics import mean_absolute_error, mean_squared_error, r2_score\n",
    "import pandas as pd\n",
    "from sklearn.ensemble import GradientBoostingRegressor\n",
    "from sklearn.model_selection import cross_val_score\n",
    "from sklearn.decomposition import PCA\n",
    "from xgboost.sklearn import XGBRegressor\n",
    "from numpy import sqrt"
   ]
  },
  {
   "cell_type": "code",
   "execution_count": 20,
   "metadata": {},
   "outputs": [],
   "source": [
    "# Read data\n",
    "df = pd.read_csv(\"data/games.csv\")"
   ]
  },
  {
   "cell_type": "code",
   "execution_count": 21,
   "metadata": {},
   "outputs": [],
   "source": [
    "# Drop rows containing Playtest in the name as not needed\n",
    "df['Name'] = df['Name'].astype(str)\n",
    "df = df[df[\"Name\"].str.contains(\"playtest|demo\")==False]\n",
    "\n",
    "# Drop columns containing too much empty data\n",
    "df = df.drop(['Reviews','Website','Support url','Support email','Metacritic url',\n",
    "    'Metacritic score','User score','Score rank','Notes', 'About the game', 'Header image', 'AppID', 'Name', 'Screenshots', 'Movies', 'Release date'\n",
    "    , 'Supported languages', 'Full audio languages', 'Developers', 'Publishers'], axis=1)"
   ]
  },
  {
   "cell_type": "code",
   "execution_count": 22,
   "metadata": {},
   "outputs": [],
   "source": [
    "# Fill NA values in string columns\n",
    "df['Tags'] = df['Tags'].fillna(\"None\")\n",
    "#df['Developers'].fillna(\"Unknown\", inplace=True)\n",
    "#df['Publishers'].fillna(\"Unknown\", inplace=True)\n",
    "df = df[df['Categories'].notna()]\n",
    "\n",
    "# Subset dataframe based on if column contains NaN values or if the game is a playtest\n",
    "df = df[df['Genres'].notna()]\n",
    "df = df[df['Categories'].notna()]"
   ]
  },
  {
   "cell_type": "code",
   "execution_count": 23,
   "metadata": {},
   "outputs": [],
   "source": [
    "# Explode the columns containing genres, tags and categories. Also languages\n",
    "df = df.join(df.Categories.str.get_dummies(',').add_prefix(\"category_\"))\n",
    "df = df.join(df.Genres.str.get_dummies(',').add_prefix(\"genre_\"))\n",
    "df = df.join(df.Tags.str.get_dummies(',').add_prefix(\"tag_\"))"
   ]
  },
  {
   "cell_type": "code",
   "execution_count": 24,
   "metadata": {},
   "outputs": [],
   "source": [
    "# Create a new column with the midpoint of the range\n",
    "df['Estimated Owners Midpoint'] = df['Estimated owners'].apply(lambda x: (int(x.split(' - ')[0]) + int(x.split(' - ')[1]))/2)\n",
    "df.drop(['Estimated owners'], axis=1, inplace=True)\n",
    "\n",
    "# Encode TRUE and FALSE columns\n",
    "df = df.replace({True: 1, False: 0})\n",
    "\n",
    "# Drop exploded columns\n",
    "df = df.drop(['Categories', 'Genres', 'Tags'], axis=1)"
   ]
  },
  {
   "cell_type": "code",
   "execution_count": 25,
   "metadata": {},
   "outputs": [],
   "source": [
    "# Optional to export preprocessed df to a new csv\n",
    "df.to_csv(\"data/preprocessed_full.csv\", index=False)"
   ]
  },
  {
   "cell_type": "code",
   "execution_count": 26,
   "metadata": {},
   "outputs": [],
   "source": [
    "# Assign dependent and independent variables \n",
    "X = df.drop('Positive', axis=1)\n",
    "y = df['Positive']\n",
    "\n",
    "# Create the pipeline\n",
    "pipe = Pipeline([\n",
    "    ('scaler', StandardScaler()),\n",
    "    ('pca', PCA(n_components=0.85)),\n",
    "    ('regressor', XGBRegressor())\n",
    "])"
   ]
  },
  {
   "cell_type": "code",
   "execution_count": 27,
   "metadata": {},
   "outputs": [
    {
     "name": "stdout",
     "output_type": "stream",
     "text": [
      "Metrics for Model: XGBRegressor using Scaler: StandardScaler\n",
      "Average CV Score (r2): 0.74\n",
      "Average CV Score (MSE): -344293035.29\n",
      "Average CV Score (MAE): -1035.75\n"
     ]
    }
   ],
   "source": [
    "# Measure the performance of the model\n",
    "r2 = cross_val_score(pipe, X, y, cv=5, scoring='r2')\n",
    "mse = cross_val_score(pipe, X, y, cv=5, scoring='neg_mean_squared_error')\n",
    "mae = cross_val_score(pipe, X, y, cv=5, scoring='neg_mean_absolute_error')\n",
    "\n",
    "# Define the steps names for later use\n",
    "scaler_name = type(pipe.named_steps['scaler']).__name__\n",
    "model_name = type(pipe.named_steps['regressor']).__name__\n",
    "\n",
    "print(\"Metrics for Model: {} using Scaler: {}\".format(model_name, scaler_name))\n",
    "print(\"Average CV Score (r2): {:.2f}\".format(r2.mean()))\n",
    "print(\"Average CV Score (MSE): {:.2f}\".format(mse.mean()))\n",
    "print(\"Average CV Score (MAE): {:.2f}\".format(mae.mean()))"
   ]
  }
 ],
 "metadata": {
  "kernelspec": {
   "display_name": ".venv",
   "language": "python",
   "name": "python3"
  },
  "language_info": {
   "codemirror_mode": {
    "name": "ipython",
    "version": 3
   },
   "file_extension": ".py",
   "mimetype": "text/x-python",
   "name": "python",
   "nbconvert_exporter": "python",
   "pygments_lexer": "ipython3",
   "version": "3.8.10"
  },
  "orig_nbformat": 4,
  "vscode": {
   "interpreter": {
    "hash": "b7e5a9143774663359e86762922e0a21a9efc06d7ce2a2a0369819e33e3829d0"
   }
  }
 },
 "nbformat": 4,
 "nbformat_minor": 2
}
